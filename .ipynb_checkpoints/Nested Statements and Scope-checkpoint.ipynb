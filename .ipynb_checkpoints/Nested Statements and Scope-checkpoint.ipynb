{
 "cells": [
  {
   "cell_type": "code",
   "execution_count": 1,
   "metadata": {},
   "outputs": [],
   "source": [
    "#When you create a variable name in Python, it is saved in the namespace.\n",
    "#Variable names also have a scope, this determines the visibility of the variable to other lines of your code\n"
   ]
  },
  {
   "cell_type": "code",
   "execution_count": 3,
   "metadata": {},
   "outputs": [],
   "source": [
    "x = 25\n",
    "\n",
    "\n",
    "def printer():\n",
    "    x = 50\n",
    "    return x"
   ]
  },
  {
   "cell_type": "code",
   "execution_count": 5,
   "metadata": {},
   "outputs": [
    {
     "name": "stdout",
     "output_type": "stream",
     "text": [
      "25\n"
     ]
    }
   ],
   "source": [
    "print (x)"
   ]
  },
  {
   "cell_type": "code",
   "execution_count": 6,
   "metadata": {},
   "outputs": [],
   "source": [
    "# x is defined twice, but it returns the global variable"
   ]
  },
  {
   "cell_type": "raw",
   "metadata": {},
   "source": []
  },
  {
   "cell_type": "code",
   "execution_count": 8,
   "metadata": {},
   "outputs": [
    {
     "name": "stdout",
     "output_type": "stream",
     "text": [
      "50\n"
     ]
    }
   ],
   "source": [
    "print(printer())"
   ]
  },
  {
   "cell_type": "code",
   "execution_count": 9,
   "metadata": {},
   "outputs": [],
   "source": [
    "#The above returns the local variable inside the printer function"
   ]
  },
  {
   "cell_type": "code",
   "execution_count": 10,
   "metadata": {},
   "outputs": [],
   "source": [
    "#This is the idea of scope, follows LEGB rule"
   ]
  },
  {
   "cell_type": "markdown",
   "metadata": {},
   "source": [
    "L = Local (names defined within a function)\n",
    "E = Enclosing (Names in a local scope of any and all enclosing function)\n",
    "G = Global (Names assigned to a top level of a module file)\n",
    "B = Built-in  (Python) - names assigned in the built-in names module e.g open, range, syntaxerror etc"
   ]
  },
  {
   "cell_type": "code",
   "execution_count": 11,
   "metadata": {},
   "outputs": [],
   "source": [
    "#This is the order that Python will check the variable "
   ]
  },
  {
   "cell_type": "code",
   "execution_count": 14,
   "metadata": {},
   "outputs": [
    {
     "name": "stdout",
     "output_type": "stream",
     "text": [
      "Hello Shummus\n"
     ]
    }
   ],
   "source": [
    "name = 'This is a global string'\n",
    "\n",
    "\n",
    "def greeting():\n",
    "    name = 'Shummus'\n",
    "    \n",
    "    def hello():\n",
    "        print ('Hello ' + name )\n",
    "        \n",
    "    hello()\n",
    "    \n",
    "greeting()"
   ]
  },
  {
   "cell_type": "code",
   "execution_count": 16,
   "metadata": {},
   "outputs": [],
   "source": [
    "#When we execute greeting, it assigns name = 'Shummus', defines the function Hello then executes funcition hello\n",
    "# The enclosing name function is being pulled first rather than the global one, as it is global in the function\n"
   ]
  },
  {
   "cell_type": "code",
   "execution_count": 17,
   "metadata": {},
   "outputs": [
    {
     "name": "stdout",
     "output_type": "stream",
     "text": [
      "Hello This is a global string\n"
     ]
    }
   ],
   "source": [
    "name = 'This is a global string'\n",
    "\n",
    "\n",
    "def greeting():\n",
    "\n",
    "    \n",
    "    def hello():\n",
    "        print ('Hello ' + name )\n",
    "        \n",
    "    hello()\n",
    "    \n",
    "greeting()"
   ]
  },
  {
   "cell_type": "code",
   "execution_count": 19,
   "metadata": {},
   "outputs": [],
   "source": [
    "#If we remove the name in the enclosing setting, the global name will be returned instead from the global namespace"
   ]
  },
  {
   "cell_type": "code",
   "execution_count": 21,
   "metadata": {},
   "outputs": [
    {
     "name": "stdout",
     "output_type": "stream",
     "text": [
      "Hello local\n"
     ]
    }
   ],
   "source": [
    "name = 'This is a global string'\n",
    "\n",
    "\n",
    "def greeting():\n",
    "    \n",
    "    name ='enclosing'\n",
    "    \n",
    "    def hello():\n",
    "        name ='local'\n",
    "        print ('Hello ' + name )\n",
    "        \n",
    "    hello()\n",
    "    \n",
    "greeting()"
   ]
  },
  {
   "cell_type": "code",
   "execution_count": 22,
   "metadata": {},
   "outputs": [],
   "source": [
    "#The above shows a local namespace variable beint returned"
   ]
  },
  {
   "cell_type": "code",
   "execution_count": null,
   "metadata": {},
   "outputs": [],
   "source": []
  }
 ],
 "metadata": {
  "kernelspec": {
   "display_name": "Python 3",
   "language": "python",
   "name": "python3"
  },
  "language_info": {
   "codemirror_mode": {
    "name": "ipython",
    "version": 3
   },
   "file_extension": ".py",
   "mimetype": "text/x-python",
   "name": "python",
   "nbconvert_exporter": "python",
   "pygments_lexer": "ipython3",
   "version": "3.8.3"
  }
 },
 "nbformat": 4,
 "nbformat_minor": 4
}
