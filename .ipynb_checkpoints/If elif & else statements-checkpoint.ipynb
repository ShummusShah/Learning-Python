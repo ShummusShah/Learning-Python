{
 "cells": [
  {
   "cell_type": "code",
   "execution_count": 2,
   "metadata": {},
   "outputs": [],
   "source": [
    "#This is for control flow, used when we only want certain code to execute when certain conditions are met"
   ]
  },
  {
   "cell_type": "code",
   "execution_count": 4,
   "metadata": {},
   "outputs": [],
   "source": [
    "#Control flow syntax makes use of colons and indentation (whitespace), indentation is crucial to Python"
   ]
  },
  {
   "cell_type": "markdown",
   "metadata": {},
   "source": [
    "#Syntax on an if statement \n",
    "\n",
    "if some_condition:\n",
    "    Execute some code"
   ]
  },
  {
   "cell_type": "code",
   "execution_count": 6,
   "metadata": {},
   "outputs": [],
   "source": [
    "#the code above says if the condition is met, rule the code that is indented "
   ]
  },
  {
   "cell_type": "markdown",
   "metadata": {},
   "source": [
    "#Syntax on an if/else statement \n",
    "\n",
    "if some_condition:\n",
    "    Execute some code\n",
    "else:\n",
    "    Do this"
   ]
  },
  {
   "cell_type": "markdown",
   "metadata": {},
   "source": [
    "#Syntax on an if/else with mutiple possible outcomes  \n",
    "\n",
    "if some_condition:\n",
    "    Execute some code\n",
    "elif some_condition:\n",
    "    Execute some code\n",
    "else:\n",
    "    Do this"
   ]
  },
  {
   "cell_type": "code",
   "execution_count": 8,
   "metadata": {},
   "outputs": [],
   "source": [
    "### EXAMPLES"
   ]
  },
  {
   "cell_type": "code",
   "execution_count": 9,
   "metadata": {},
   "outputs": [
    {
     "name": "stdout",
     "output_type": "stream",
     "text": [
      "it is true\n"
     ]
    }
   ],
   "source": [
    "if True:\n",
    "    print('it is true')"
   ]
  },
  {
   "cell_type": "code",
   "execution_count": 10,
   "metadata": {},
   "outputs": [
    {
     "name": "stdout",
     "output_type": "stream",
     "text": [
      "it is true\n"
     ]
    }
   ],
   "source": [
    "if 3>2:\n",
    "    print('it is true')"
   ]
  },
  {
   "cell_type": "code",
   "execution_count": 11,
   "metadata": {},
   "outputs": [
    {
     "name": "stdout",
     "output_type": "stream",
     "text": [
      "it is true\n"
     ]
    }
   ],
   "source": [
    "if 3>2:\n",
    "    print('it is true')\n",
    "else:\n",
    "    print('it is false')"
   ]
  },
  {
   "cell_type": "code",
   "execution_count": 12,
   "metadata": {},
   "outputs": [
    {
     "name": "stdout",
     "output_type": "stream",
     "text": [
      "it is false\n"
     ]
    }
   ],
   "source": [
    "if 3==2:\n",
    "    print('it is true')\n",
    "else:\n",
    "    print('it is false')"
   ]
  },
  {
   "cell_type": "code",
   "execution_count": 46,
   "metadata": {},
   "outputs": [
    {
     "name": "stdout",
     "output_type": "stream",
     "text": [
      "pump iron\n"
     ]
    }
   ],
   "source": [
    "location = 'Gym'\n",
    "\n",
    "#The below will run the function straight away, but you will have to write it out again and again as it is\n",
    "# not defined\n",
    "\n",
    "if location == 'School':\n",
    "    print('Enjoy your learning')\n",
    "elif location == 'Shops':\n",
    "    print('Dont spend too much')\n",
    "elif location == 'Gym':\n",
    "    print('pump iron')\n",
    "else:\n",
    "    print('I dont have much to say')\n",
    "    \n",
    "\n",
    "#Here we define a function, so should we want to run it over and over, we only have to recall the fucntion\n",
    "\n",
    "def comment():\n",
    "    if  location == 'School':\n",
    "        print('Enjoy your learning')\n",
    "    elif location == 'Shops':\n",
    "        print('Dont spend too much')\n",
    "    elif location == 'Gym':\n",
    "        print ('pump iron')\n",
    "    else:\n",
    "        print ('I dont have much to say')"
   ]
  },
  {
   "cell_type": "code",
   "execution_count": 47,
   "metadata": {},
   "outputs": [
    {
     "name": "stdout",
     "output_type": "stream",
     "text": [
      "pump iron\n"
     ]
    }
   ],
   "source": [
    "comment()"
   ]
  },
  {
   "cell_type": "code",
   "execution_count": 48,
   "metadata": {},
   "outputs": [
    {
     "name": "stdout",
     "output_type": "stream",
     "text": [
      "I dont have much to say\n"
     ]
    }
   ],
   "source": [
    "location = 'Home'\n",
    "comment()"
   ]
  },
  {
   "cell_type": "code",
   "execution_count": 49,
   "metadata": {},
   "outputs": [
    {
     "name": "stdout",
     "output_type": "stream",
     "text": [
      "Enjoy your learning\n"
     ]
    }
   ],
   "source": [
    "location = 'School'\n",
    "comment()"
   ]
  },
  {
   "cell_type": "code",
   "execution_count": 50,
   "metadata": {},
   "outputs": [
    {
     "name": "stdout",
     "output_type": "stream",
     "text": [
      "Enjoy your learning\n"
     ]
    }
   ],
   "source": [
    "comment()"
   ]
  },
  {
   "cell_type": "code",
   "execution_count": null,
   "metadata": {},
   "outputs": [],
   "source": []
  }
 ],
 "metadata": {
  "kernelspec": {
   "display_name": "Python 3",
   "language": "python",
   "name": "python3"
  },
  "language_info": {
   "codemirror_mode": {
    "name": "ipython",
    "version": 3
   },
   "file_extension": ".py",
   "mimetype": "text/x-python",
   "name": "python",
   "nbconvert_exporter": "python",
   "pygments_lexer": "ipython3",
   "version": "3.8.3"
  }
 },
 "nbformat": 4,
 "nbformat_minor": 4
}
