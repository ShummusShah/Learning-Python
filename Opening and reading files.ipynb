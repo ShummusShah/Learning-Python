{
 "cells": [
  {
   "cell_type": "code",
   "execution_count": 1,
   "metadata": {},
   "outputs": [],
   "source": [
    "# "
   ]
  },
  {
   "cell_type": "code",
   "execution_count": 2,
   "metadata": {},
   "outputs": [
    {
     "data": {
      "text/plain": [
       "'/Users/shummusshah/Dev/Notebook'"
      ]
     },
     "execution_count": 2,
     "metadata": {},
     "output_type": "execute_result"
    }
   ],
   "source": [
    "pwd"
   ]
  },
  {
   "cell_type": "code",
   "execution_count": 4,
   "metadata": {},
   "outputs": [],
   "source": [
    "# As practice.txt does not exist, it creates it\n",
    "f= open('practise.txt', 'w+')\n",
    "f.write('This is a test string')\n",
    "f.close()"
   ]
  },
  {
   "cell_type": "code",
   "execution_count": 5,
   "metadata": {},
   "outputs": [
    {
     "name": "stdout",
     "output_type": "stream",
     "text": [
      "*args and **kwargs in Python.ipynb\r\n",
      "Booleans Basics.ipynb\r\n",
      "Comparison operators.ipynb\r\n",
      "Dictionaries in Python.ipynb\r\n",
      "For Loops in Python.ipynb\r\n",
      "Format Function in Strings.ipynb\r\n",
      "Function practice examples.ipynb\r\n",
      "If elif & else statements.ipynb\r\n",
      "Interaction between Python functions.ipynb\r\n",
      "Lambda Expressions Map and Filter.ipynb\r\n",
      "List comprehensions in Python.ipynb\r\n",
      "Lists in Python.ipynb\r\n",
      "Methods and Functions.ipynb\r\n",
      "Methods and functions1.ipynb\r\n",
      "Nested Statements and Scope.ipynb\r\n",
      "Object Orientated Programming .ipynb\r\n",
      "Opening and reading files.ipynb\r\n",
      "Python Generators.ipynb\r\n",
      "README.md\r\n",
      "Sets Basics.ipynb\r\n",
      "Simple IO with basic.txt file.ipynb\r\n",
      "Statements Assessment Test.ipynb\r\n",
      "String Indexing and slicing.ipynb\r\n",
      "Testing.ipynb\r\n",
      "Tic-Tac Toe.ipynb\r\n",
      "Tuple unpacking with Python functions.ipynb\r\n",
      "Tuples in Python (Basics).ipynb\r\n",
      "Untitled.ipynb\r\n",
      "Useful Operators.ipynb\r\n",
      "User interaction.ipynb\r\n",
      "While Loops.ipynb\r\n",
      "myfile.txt\r\n",
      "practise.txt\r\n"
     ]
    }
   ],
   "source": [
    "ls"
   ]
  },
  {
   "cell_type": "code",
   "execution_count": 6,
   "metadata": {},
   "outputs": [],
   "source": [
    "#See above, the practise.txt file now exists"
   ]
  },
  {
   "cell_type": "code",
   "execution_count": 7,
   "metadata": {},
   "outputs": [],
   "source": [
    "import os"
   ]
  },
  {
   "cell_type": "code",
   "execution_count": 9,
   "metadata": {},
   "outputs": [
    {
     "data": {
      "text/plain": [
       "'/Users/shummusshah/Dev/Notebook'"
      ]
     },
     "execution_count": 9,
     "metadata": {},
     "output_type": "execute_result"
    }
   ],
   "source": [
    "os.getcwd()"
   ]
  },
  {
   "cell_type": "code",
   "execution_count": 10,
   "metadata": {},
   "outputs": [
    {
     "data": {
      "text/plain": [
       "['Interaction between Python functions.ipynb',\n",
       " 'Methods and Functions.ipynb',\n",
       " 'Tic-Tac Toe.ipynb',\n",
       " '.DS_Store',\n",
       " 'If elif & else statements.ipynb',\n",
       " 'String Indexing and slicing.ipynb',\n",
       " 'User interaction.ipynb',\n",
       " 'Untitled.ipynb',\n",
       " 'Object Orientated Programming .ipynb',\n",
       " 'Lambda Expressions Map and Filter.ipynb',\n",
       " 'Lists in Python.ipynb',\n",
       " 'For Loops in Python.ipynb',\n",
       " 'Methods and functions1.ipynb',\n",
       " 'Testing.ipynb',\n",
       " 'Booleans Basics.ipynb',\n",
       " 'Simple IO with basic.txt file.ipynb',\n",
       " 'Tuple unpacking with Python functions.ipynb',\n",
       " 'Function practice examples.ipynb',\n",
       " 'README.md',\n",
       " '*args and **kwargs in Python.ipynb',\n",
       " 'Format Function in Strings.ipynb',\n",
       " 'myfile.txt',\n",
       " '.ipynb_checkpoints',\n",
       " 'While Loops.ipynb',\n",
       " 'Nested Statements and Scope.ipynb',\n",
       " '.git',\n",
       " 'Opening and reading files.ipynb',\n",
       " 'Statements Assessment Test.ipynb',\n",
       " 'Dictionaries in Python.ipynb',\n",
       " 'List comprehensions in Python.ipynb',\n",
       " 'Comparison operators.ipynb',\n",
       " 'Useful Operators.ipynb',\n",
       " 'Sets Basics.ipynb',\n",
       " 'practise.txt',\n",
       " 'Tuples in Python (Basics).ipynb',\n",
       " 'Python Generators.ipynb']"
      ]
     },
     "execution_count": 10,
     "metadata": {},
     "output_type": "execute_result"
    }
   ],
   "source": [
    "os.listdir()"
   ]
  },
  {
   "cell_type": "code",
   "execution_count": 16,
   "metadata": {},
   "outputs": [
    {
     "data": {
      "text/plain": [
       "['.localized', 'shummusshah', 'Shared']"
      ]
     },
     "execution_count": 16,
     "metadata": {},
     "output_type": "execute_result"
    }
   ],
   "source": [
    "os.listdir('/Users')"
   ]
  },
  {
   "cell_type": "code",
   "execution_count": 17,
   "metadata": {},
   "outputs": [],
   "source": [
    "import shutil"
   ]
  },
  {
   "cell_type": "code",
   "execution_count": 24,
   "metadata": {},
   "outputs": [
    {
     "data": {
      "text/plain": [
       "'/Users/shummusshah/Dev/practise.txt'"
      ]
     },
     "execution_count": 24,
     "metadata": {},
     "output_type": "execute_result"
    }
   ],
   "source": [
    "#Remeber, shift and tabs tells you what a method will do, this moves a file, this is the same as the CMD MV command\n",
    "\n",
    "shutil.move('/Users/shummusshah/Dev/Notebook/practise.txt','/Users/shummusshah/Dev/')"
   ]
  },
  {
   "cell_type": "code",
   "execution_count": 25,
   "metadata": {},
   "outputs": [],
   "source": [
    "#Moved the file into the other directory, this was just an example, lets move it back"
   ]
  },
  {
   "cell_type": "code",
   "execution_count": 27,
   "metadata": {},
   "outputs": [
    {
     "data": {
      "text/plain": [
       "'/Users/shummusshah/Dev/Notebook/practise.txt'"
      ]
     },
     "execution_count": 27,
     "metadata": {},
     "output_type": "execute_result"
    }
   ],
   "source": [
    "shutil.move('/Users/shummusshah/Dev/practise.txt','/Users/shummusshah/Dev/Notebook/')"
   ]
  },
  {
   "cell_type": "code",
   "execution_count": null,
   "metadata": {},
   "outputs": [],
   "source": []
  },
  {
   "cell_type": "code",
   "execution_count": 28,
   "metadata": {},
   "outputs": [],
   "source": [
    "#ZIP FILES"
   ]
  },
  {
   "cell_type": "code",
   "execution_count": 29,
   "metadata": {},
   "outputs": [],
   "source": [
    "f=open('fileone.txt','w+')\n",
    "f.write('ONE FILE')\n",
    "f.close()\n"
   ]
  },
  {
   "cell_type": "code",
   "execution_count": 30,
   "metadata": {},
   "outputs": [],
   "source": [
    "f=open('filetwo.txt','w+')\n",
    "f.write('TWO FILE')\n",
    "f.close()"
   ]
  },
  {
   "cell_type": "code",
   "execution_count": 31,
   "metadata": {},
   "outputs": [],
   "source": [
    "#Creted 2 text files"
   ]
  },
  {
   "cell_type": "code",
   "execution_count": 35,
   "metadata": {},
   "outputs": [],
   "source": [
    "import zipfile"
   ]
  },
  {
   "cell_type": "code",
   "execution_count": 38,
   "metadata": {},
   "outputs": [],
   "source": [
    "comp_file = zipfile.ZipFile('comp_file.zip','w')"
   ]
  },
  {
   "cell_type": "code",
   "execution_count": 39,
   "metadata": {},
   "outputs": [],
   "source": [
    "#Created an empty zip file now"
   ]
  },
  {
   "cell_type": "code",
   "execution_count": 40,
   "metadata": {},
   "outputs": [],
   "source": [
    "comp_file.write('fileone.txt',compress_type=zipfile.ZIP_DEFLATED)"
   ]
  },
  {
   "cell_type": "code",
   "execution_count": 41,
   "metadata": {},
   "outputs": [],
   "source": [
    "comp_file.write('filetwo.txt',compress_type=zipfile.ZIP_DEFLATED)"
   ]
  },
  {
   "cell_type": "code",
   "execution_count": 42,
   "metadata": {},
   "outputs": [],
   "source": [
    "#Now added the two files to the zip file, need to now close the ZIP file as it has remained open in notebook"
   ]
  },
  {
   "cell_type": "code",
   "execution_count": 43,
   "metadata": {},
   "outputs": [],
   "source": [
    "comp_file.close()"
   ]
  },
  {
   "cell_type": "code",
   "execution_count": null,
   "metadata": {},
   "outputs": [],
   "source": []
  }
 ],
 "metadata": {
  "kernelspec": {
   "display_name": "Python 3",
   "language": "python",
   "name": "python3"
  },
  "language_info": {
   "codemirror_mode": {
    "name": "ipython",
    "version": 3
   },
   "file_extension": ".py",
   "mimetype": "text/x-python",
   "name": "python",
   "nbconvert_exporter": "python",
   "pygments_lexer": "ipython3",
   "version": "3.8.3"
  }
 },
 "nbformat": 4,
 "nbformat_minor": 4
}
