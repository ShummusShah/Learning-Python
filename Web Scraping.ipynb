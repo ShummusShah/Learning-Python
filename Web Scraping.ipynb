{
 "cells": [
  {
   "cell_type": "code",
   "execution_count": 1,
   "metadata": {},
   "outputs": [],
   "source": [
    "#Download images or info from a website"
   ]
  },
  {
   "cell_type": "code",
   "execution_count": 4,
   "metadata": {},
   "outputs": [],
   "source": [
    "#If you make too make too many web scrapes IP can get blocked - some site auto block web scraping software"
   ]
  },
  {
   "cell_type": "code",
   "execution_count": 5,
   "metadata": {},
   "outputs": [],
   "source": [
    "import requests"
   ]
  },
  {
   "cell_type": "code",
   "execution_count": 6,
   "metadata": {},
   "outputs": [],
   "source": [
    "import bs4"
   ]
  },
  {
   "cell_type": "code",
   "execution_count": 7,
   "metadata": {},
   "outputs": [],
   "source": [
    "#View page source on a website"
   ]
  },
  {
   "cell_type": "code",
   "execution_count": 8,
   "metadata": {},
   "outputs": [],
   "source": [
    "result = requests.get('https://www.shummusshah.com')"
   ]
  },
  {
   "cell_type": "code",
   "execution_count": 9,
   "metadata": {},
   "outputs": [
    {
     "data": {
      "text/plain": [
       "requests.models.Response"
      ]
     },
     "execution_count": 9,
     "metadata": {},
     "output_type": "execute_result"
    }
   ],
   "source": [
    "type(result)"
   ]
  },
  {
   "cell_type": "code",
   "execution_count": 11,
   "metadata": {},
   "outputs": [
    {
     "data": {
      "text/plain": [
       "'<!DOCTYPE html>\\n<html lang=\"en\">\\n    <head>\\n        <meta charset=\"utf-8\" />\\n        <meta name=\"viewport\" content=\"width=device-width, initial-scale=1, shrink-to-fit=no\" />\\n        <meta name=\"description\" content=\"Online Portfolio\" />\\n        <meta name=\"author\" content=\"Shummus Shah\" />\\n        <title>Shummus Shah - Resume</title>\\n        <link rel=\"icon\" type=\"image/x-icon\" href=\"assets/img/favicon.ico\" />\\n        <!-- Font Awesome icons (free version)-->\\n        <script src=\"https://use.fontawesome.com/releases/v5.13.0/js/all.js\" crossorigin=\"anonymous\"></script>\\n        <!-- Google fonts-->\\n        <link href=\"https://fonts.googleapis.com/css?family=Saira+Extra+Condensed:500,700\" rel=\"stylesheet\" type=\"text/css\" />\\n        <link href=\"https://fonts.googleapis.com/css?family=Muli:400,400i,800,800i\" rel=\"stylesheet\" type=\"text/css\" />\\n        <!-- Core theme CSS (includes Bootstrap)-->\\n        <link href=\"css/styles.css\" rel=\"stylesheet\" />\\n\\n\\n\\n        \\n    </head>\\n    <body id=\"page-top\">\\n        <!-- Navigation-->\\n        <nav class=\"navbar navbar-expand-lg navbar-dark bg-primary fixed-top\" id=\"sideNav\">\\n            <a class=\"navbar-brand js-scroll-trigger\" href=\"#page-top\">\\n                <span class=\"d-block d-lg-none\">Shummus Shah</span>\\n                <span class=\"d-none d-lg-block\"><img class=\"img-fluid img-profile rounded-circle mx-auto mb-2\" src=\"assets/img/profile.jpg\" alt=\"\" /></span>\\n            </a>\\n            <button class=\"navbar-toggler\" type=\"button\" data-toggle=\"collapse\" data-target=\"#navbarSupportedContent\" aria-controls=\"navbarSupportedContent\" aria-expanded=\"false\" aria-label=\"Toggle navigation\"><span class=\"navbar-toggler-icon\"></span></button>\\n            <div class=\"collapse navbar-collapse\" id=\"navbarSupportedContent\">\\n                <ul class=\"navbar-nav\">\\n                    <li class=\"nav-item\"><a class=\"nav-link js-scroll-trigger\" href=\"#about\">About</a></li>\\n                    <li class=\"nav-item\"><a class=\"nav-link js-scroll-trigger\" href=\"#experience\">Experience</a></li>\\n                    <li class=\"nav-item\"><a class=\"nav-link js-scroll-trigger\" href=\"#education\">Education</a></li>\\n                    <li class=\"nav-item\"><a class=\"nav-link js-scroll-trigger\" href=\"#skills\">Skills</a></li>\\n                    <li class=\"nav-item\"><a class=\"nav-link js-scroll-trigger\" href=\"#interests\">Interests</a></li>\\n                    <li class=\"nav-item\"><a class=\"nav-link js-scroll-trigger\" href=\"#awards\">Awards</a></li>\\n                </ul>\\n            </div>\\n        </nav>\\n        <!-- Page Content-->\\n        <div class=\"container-fluid p-0\">\\n            <!-- About-->\\n            <section class=\"resume-section\" id=\"about\">\\n                <div class=\"resume-section-content\">\\n                    <h1 class=\"mb-0\">\\n                        Shummus\\n                        <span class=\"text-primary\">Shah</span>\\n                    </h1>\\n                    <div class=\"subheading mb-5\">\\n                        London, United Kingdom · \\n                        <a href=\"mailto:shummus@live.co.uk\">shummus@live.co.uk</a>\\n                    </div>\\n                    <p class=\"lead mb-5\">Hi, welcome to my webpage.  <br> <br> Please feel free to browse this page to see the projects I have worked on as well as my past work experience. If you would like to reach out, please do so using my social media listed below or contact details above.  </p>\\n                    \\n                    <div class=\"social-links\">\\n                        <a class=\"social-links\" href=\"https://www.linkedin.com/in/shummusshah/\"><i class=\"fab fa-linkedin-in\"></i></a>\\n                        <a class=\"social-links\" href=\"https://github.com/ShummusShah\"><i class=\"fab fa-github\"></i></a>\\n                        <a class=\"social-links\" href=\"https://twitter.com/ShummusS\"><i class=\"fab fa-twitter\"></i></a>\\n                        <a class=\"social-links\" href=\"https://www.instagram.com/shummus.shah/\"><i class=\"fab fa-instagram\"></i></a>                        \\n\\n                    </div>\\n                 <!--   <div class=\"social-icons\">\\n                        <a class=\"social-icon\" href=\"https://www.linkedin.com/in/shummusshah/\"><i class=\"fab fa-linkedin-in\"></i></a>\\n                        <a class=\"social-icon\" href=\"https://github.com/ShummusShah\"><i class=\"fab fa-github\"></i></a>\\n                        <a class=\"social-icon\" href=\"https://twitter.com/ShummusS\"><i class=\"fab fa-twitter\"></i></a>\\n                        <a class=\"social-icon\" href=\"https://www.instagram.com/shummus.shah/\"><i class=\"fab fa-instagram\"></i></a>\\n                    </div> -->\\n                </div>\\n            </section>\\n            <hr class=\"m-0\" />\\n            <!-- Experience-->\\n            <section class=\"resume-section\" id=\"experience\">\\n                <div class=\"resume-section-content\">\\n                \\n                    <div class=\"d-flex flex-column flex-md-row justify-content-between mb-5\">\\n                        <div class=\"flex-grow-1\">\\n                            <h3 class=\"mb-0\">Coding Projects</h3>\\n                            <div class=\"subheading mb-3\">Please see below for a range of projects I have built to test my skillset.</div>\\n                            <p>To do list - To visit please <a target=\"_blank\" href=\"To-do List.html\"> click here</a><br>\\n                            Random Quote generator - for your philosophical quotes <a target=\"_blank\" href=\"quotes.html\">click here</a></p>\\n                        </div>\\n                        <div class=\"flex-shrink-0\"><span class=\"text-primary\">July 2020 - Present</span></div>\\n                    </div>\\n                   \\n\\n                    <div class=\"d-flex flex-column flex-md-row justify-content-between mb-5\">\\n                        <div class=\"flex-grow-1\">\\n                            <h3 class=\"mb-0\">Financial Services experience</h3>\\n                            <div class=\"subheading mb-3\">Range of Professional Financial Experience</div>\\n                            <p>The majority of my professional work experience has been in the Financial Industry. I have 4+ years of experience, ranging from working as a Mortgage consultant, a Trainee accountant and a Wealth Manager.</p>\\n                        </div>\\n                        <div class=\"flex-shrink-0\"><span class=\"text-primary\">December 2011 - March 2013</span></div>\\n        <!--            </div>\\n                     <div class=\"d-flex flex-column flex-md-row justify-content-between mb-5\">\\n                        <div class=\"flex-grow-1\">\\n                            <h3 class=\"mb-0\">Junior Web Designer</h3>\\n                            <div class=\"subheading mb-3\">Shout! Media Productions</div>\\n                            <p>Podcasting operational change management inside of workflows to establish a framework. Taking seamless key performance indicators offline to maximise the long tail. Keeping your eye on the ball while performing a deep dive on the start-up mentality to derive convergence on cross-platform integration.</p>\\n                        </div>\\n                        <div class=\"flex-shrink-0\"><span class=\"text-primary\">July 2010 - December 2011</span></div>\\n                    </div>\\n                    <div class=\"d-flex flex-column flex-md-row justify-content-between\">\\n                        <div class=\"flex-grow-1\">\\n                            <h3 class=\"mb-0\">Web Design Intern</h3>\\n                            <div class=\"subheading mb-3\">Shout! Media Productions</div>\\n                            <p>Collaboratively administrate empowered markets via plug-and-play networks. Dynamically procrastinate B2C users after installed base benefits. Dramatically visualize customer directed convergence without revolutionary ROI.</p>\\n                        </div>\\n                        <div class=\"flex-shrink-0\"><span class=\"text-primary\">September 2008 - June 2010</span></div>\\n\\n                        !-->\\n                    </div>\\n                </div>\\n            </section>\\n            <hr class=\"m-0\" />\\n            <!-- Education-->\\n            <section class=\"resume-section\" id=\"education\">\\n                <div class=\"resume-section-content\">\\n                    <h2 class=\"mb-5\">Education</h2>\\n\\n                      <div class=\"d-flex flex-column flex-md-row justify-content-between mb-5\">\\n                        <div class=\"flex-grow-1\">\\n                            <h3 class=\"mb-0\">Codecademy</h3>\\n                            <div class=\"subheading mb-3\">Coding Bootcamp</div>\\n\\n\\n                        </div>\\n                        <div class=\"flex-shrink-0\"><span class=\"text-primary\">September 2020 - Current </span></div>\\n                    </div>\\n\\n\\n                    <div class=\"d-flex flex-column flex-md-row justify-content-between mb-5\">\\n                        <div class=\"flex-grow-1\">\\n                            <h3 class=\"mb-0\">University of Liverpool</h3>\\n                            <div class=\"subheading mb-3\">Master of Science</div>\\n                            <div>Finance - Postgraduate Merit</div>\\n\\n                        </div>\\n                        <div class=\"flex-shrink-0\"><span class=\"text-primary\">September 2017 - December 2018</span></div>\\n                    </div>\\n                    <div class=\"d-flex flex-column flex-md-row justify-content-between\">\\n                        <div class=\"flex-grow-1\">\\n                            <h3 class=\"mb-0\">University of Liverpool</h3>\\n                            <div class=\"subheading mb-3\">Bachelor of Arts</div>\\n                            <p>Accounting and Finance - 2;1</p>\\n                        </div>\\n                        <div class=\"flex-shrink-0\"><span class=\"text-primary\">September 2012 - June 2015</span></div>\\n                    </div>\\n                </div>\\n            </section>\\n            <hr class=\"m-0\" />\\n            <!-- Skills-->\\n            <section class=\"resume-section\" id=\"skills\">\\n                <div class=\"resume-section-content\">\\n                    <h2 class=\"mb-5\">Skills</h2>\\n                    <div class=\"subheading mb-3\">Programming Languages & Tools</div>\\n                    <ul class=\"list-inline dev-icons\">\\n                        <li class=\"list-inline-item\"><i class=\"fab fa-html5\"></i></li>\\n                        <li class=\"list-inline-item\"><i class=\"fab fa-css3-alt\"></i></li>\\n                        <li class=\"list-inline-item\"><i class=\"fab fa-js-square\"></i></li>   \\n                      <!--     <li class=\"list-inline-item\"><i class=\"fab fa-angular\"></i></li>\\n                        <li class=\"list-inline-item\"><i class=\"fab fa-react\"></i></li>  --> \\n                        <li class=\"list-inline-item\"><i class=\"fab fa-node-js\"></i></li>\\n                    <!--    <li class=\"list-inline-item\"><i class=\"fab fa-sass\"></i></li>   --> \\n                        <li class=\"list-inline-item\"><i class=\"fab fa-less\"></i></li>\\n                        <li class=\"list-inline-item\"><i class=\"fab fa-wordpress\"></i></li>\\n                        <li class=\"list-inline-item\"><i class=\"fab fa-gulp\"></i></li>   \\n                        <li class=\"list-inline-item\"><i class=\"fab fa-grunt\"></i></li>  \\n                        <li class=\"list-inline-item\"><i class=\"fab fa-npm\"></i></li>\\n                    </ul>\\n                    <div class=\"subheading mb-3\">Skill-list</div>\\n                    <ul class=\"fa-ul mb-0\">\\n                        <li>\\n                            <span class=\"fa-li\"><i class=\"fas fa-check\"></i></span>\\n                            HTML, CSS\\n                        </li>\\n                        <li>\\n                            <span class=\"fa-li\"><i class=\"fas fa-check\"></i></span>\\n                            JavaScript \\n                     </li>\\n                        <li>\\n                            <span class=\"fa-li\"><i class=\"fas fa-check\"></i></span>\\n                            Python\\n                        </li>\\n         <!-- Interests                 <li>\\n                            <span class=\"fa-li\"><i class=\"fas fa-check\"></i></span>\\n                            Agile Development & Scrum\\n                        </li>--> \\n                    </ul>\\n                </div>\\n            </section>\\n            <hr class=\"m-0\" />\\n            <!-- Interests-->\\n            <section class=\"resume-section\" id=\"interests\">\\n                <div class=\"resume-section-content\">\\n                    <h2 class=\"mb-5\">Interests</h2>\\n                    <p> My main interest is technology. That is why I am actively learning how to code. I have created this website to showcase what I have taught myself so far. <br> <br> I also enjoy travelling and exploring other cultures. \\n                        </p>\\n                    <p class=\"mb-0\"></p>\\n                </div>\\n            </section>\\n            <hr class=\"m-0\" />\\n            <!-- Awards-->\\n            <section class=\"resume-section\" id=\"awards\">\\n                <div class=\"resume-section-content\">\\n                    <h2 class=\"mb-5\">Awards & Certifications</h2>\\n                    <ul class=\"fa-ul mb-0\">\\n                        <li>\\n                            <span class=\"fa-li\"><i class=\"fas fa-trophy text-warning\"></i></span>\\n                            85th Percentile in CSS skill test on LinkedIn, out of 635,000 people.\\n                        </li>\\n                        <li>\\n                            <span class=\"fa-li\"><i class=\"fas fa-trophy text-warning\"></i></span>\\n                            <sup></sup>\\n                            Responsive Web Design Certificate, focusing on HTML and CSS.\\n                        </li>\\n                      <li>\\n                            <span class=\"fa-li\"><i class=\"fas fa-trophy text-warning\"></i></span>\\n                            Top 5% scored in jQuery on the Linkedin skill, out of 126,000 people who completed the test.\\n                        </li>\\n                          <li>\\n                            <span class=\"fa-li\"><i class=\"fas fa-trophy text-warning\"></i></span>\\n                            Top 15% score in Node.js on Linkedin Skill test, out of 81,000 people.\\n                        </li>\\n                      <li>\\n                            <span class=\"fa-li\"><i class=\"fas fa-trophy text-warning\"></i></span>\\n                            Scored in the top 15% in the MicroSoft Excel Skill test out of 6.5 Million people \\n                        </li>\\n  <!--                        <li>\\n                            <span class=\"fa-li\"><i class=\"fas fa-trophy text-warning\"></i></span>\\n                            3\\n                            <sup>rd</sup>\\n                            Place - James Buchanan High School - Hackathon 2005\\n                        </li>\\n                        !-->\\n                    </ul>\\n                </div>\\n            </section>\\n        </div>\\n        <!-- Bootstrap core JS-->\\n        <script src=\"https://cdnjs.cloudflare.com/ajax/libs/jquery/3.5.1/jquery.min.js\"></script>\\n        <script src=\"https://stackpath.bootstrapcdn.com/bootstrap/4.5.0/js/bootstrap.bundle.min.js\"></script>\\n        <!-- Third party plugin JS-->\\n        <script src=\"https://cdnjs.cloudflare.com/ajax/libs/jquery-easing/1.4.1/jquery.easing.min.js\"></script>\\n        <!-- Core theme JS-->\\n        <script src=\"js/scripts.js\"></script>\\n    </body>\\n</html>\\n'"
      ]
     },
     "execution_count": 11,
     "metadata": {},
     "output_type": "execute_result"
    }
   ],
   "source": [
    "result.text"
   ]
  },
  {
   "cell_type": "code",
   "execution_count": 12,
   "metadata": {},
   "outputs": [],
   "source": [
    "#Returned the HTML for the webpage\n"
   ]
  },
  {
   "cell_type": "code",
   "execution_count": null,
   "metadata": {},
   "outputs": [],
   "source": []
  }
 ],
 "metadata": {
  "kernelspec": {
   "display_name": "Python 3",
   "language": "python",
   "name": "python3"
  },
  "language_info": {
   "codemirror_mode": {
    "name": "ipython",
    "version": 3
   },
   "file_extension": ".py",
   "mimetype": "text/x-python",
   "name": "python",
   "nbconvert_exporter": "python",
   "pygments_lexer": "ipython3",
   "version": "3.8.3"
  }
 },
 "nbformat": 4,
 "nbformat_minor": 4
}
